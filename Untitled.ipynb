{
 "cells": [
  {
   "cell_type": "code",
   "execution_count": 2452,
   "metadata": {
    "collapsed": false
   },
   "outputs": [],
   "source": [
    "%matplotlib inline\n",
    "from __future__ import division\n",
    "import numpy as np\n",
    "import matplotlib.pyplot as plt\n",
    "np.set_printoptions(precision=5)"
   ]
  },
  {
   "cell_type": "code",
   "execution_count": 2453,
   "metadata": {
    "collapsed": true
   },
   "outputs": [],
   "source": [
    "MINERROR = 1e-5\n",
    "MAXITER = 1e5"
   ]
  },
  {
   "cell_type": "code",
   "execution_count": 2454,
   "metadata": {
    "code_folding": [
     0
    ],
    "collapsed": false
   },
   "outputs": [],
   "source": [
    "class Material(object):\n",
    "    def __init__(self):\n",
    "        self._absorption = None\n",
    "        self._diffusion = None\n",
    "        self._fission = None\n",
    "        self._width = None\n",
    "        self._segments = None\n",
    "        self._neutrons_per_fission = None\n",
    "        self._groups = None\n",
    "        self._scattering = None\n",
    "        self._chi = None\n",
    "    \n",
    "    def __repr__(self):\n",
    "        if np.amax(self._fission) > 0:\n",
    "            use = 'fuel'\n",
    "        else:\n",
    "            use = 'reflector'\n",
    "        return u'{0}cm of {1} material'.format(self._width, use)\n",
    "    \n",
    "    @property\n",
    "    def groups(self):\n",
    "        return self._groups\n",
    "    \n",
    "    @groups.setter\n",
    "    def groups(self, g):\n",
    "        allowed_groups = [2,4]\n",
    "        if g not in allowed_groups:\n",
    "            errorstring = 'Groups must be from the allowed list ({0}), not {1}'\n",
    "            raise ValueError(errorstring.format(allowed_groups, g))\n",
    "        self._groups = g\n",
    "    \n",
    "    @property\n",
    "    def nodes(self):\n",
    "        return self._segments + 1\n",
    "    \n",
    "    @nodes.setter\n",
    "    def nodes(self, n):\n",
    "        self._segments = n - 1\n",
    "        \n",
    "    @property\n",
    "    def chi(self):\n",
    "        return self._chi\n",
    "    \n",
    "    @chi.setter\n",
    "    def chi(self, c):\n",
    "        self._chi = c\n",
    "    \n",
    "    @property\n",
    "    def absorption(self):\n",
    "        return self._absorption\n",
    "    \n",
    "    @absorption.setter\n",
    "    def absorption(self, a):\n",
    "        self._absorption = a\n",
    "    \n",
    "    @property\n",
    "    def scattering(self):\n",
    "        return self._scattering\n",
    "    \n",
    "    @scattering.setter\n",
    "    def scattering(self, s):\n",
    "        if s.shape[0] != s.shape[1]:\n",
    "            raise ValueError('Scattering matrix must be square')\n",
    "        if s.shape[0] != self._groups:\n",
    "            raise AssertionError('Must have scattering into and out of each group')\n",
    "        self._scattering = s\n",
    "    \n",
    "    def inscatter(self, group):\n",
    "        return self._scattering[:,group]\n",
    "    \n",
    "    def removal(self, group=None):\n",
    "        if group is None:\n",
    "            return self.absorption + np.array([np.sum(self._scattering[g,:]) for g in range(self.groups)])\n",
    "        else:\n",
    "            g = group\n",
    "            return self.absorption[g] + np.sum(self._scattering[g,:])\n",
    "    \n",
    "    @property\n",
    "    def diffusion(self):\n",
    "        return self._diffusion\n",
    "    \n",
    "    @diffusion.setter\n",
    "    def diffusion(self, d):\n",
    "        self._diffusion = d\n",
    "    \n",
    "    @property\n",
    "    def fission(self):\n",
    "        return self._fission\n",
    "    \n",
    "    @fission.setter\n",
    "    def fission(self, f):\n",
    "        self._fission = f\n",
    "    \n",
    "    @property\n",
    "    def width(self):\n",
    "        return self._width\n",
    "    \n",
    "    @width.setter\n",
    "    def width(self, w):\n",
    "        self._width = w\n",
    "    \n",
    "    @property\n",
    "    def segments(self):\n",
    "        return self._segments\n",
    "    \n",
    "    @segments.setter\n",
    "    def segments(self, s):\n",
    "        self._segments = s\n",
    "    \n",
    "    @property\n",
    "    def neutrons_per_fission(self):\n",
    "        return self._neutrons_per_fission\n",
    "    \n",
    "    @neutrons_per_fission.setter\n",
    "    def neutrons_per_fission(self, nu):\n",
    "        self._neutrons_per_fission = nu\n",
    "        \n",
    "    def sigma_nu(self):\n",
    "        return np.multiply(self.fission, self.neutrons_per_fission)\n",
    "    \n",
    "    def delta_x(self):\n",
    "        return self.width / self.segments\n",
    "    \n",
    "    def matrix(self, g, offset=0):\n",
    "        s = self.segments\n",
    "        mat = np.zeros((s, s))\n",
    "        \n",
    "        o = offset\n",
    "        \n",
    "        c = self.diffusion[g] / self.delta_x() ** 2\n",
    "        d = self.diffusion[g] / self.delta_x()\n",
    "        removal = self.absorption[g] + sum(self.scattering[g])\n",
    "        \n",
    "        for i in range(self.segments)[1:-1]:\n",
    "            \n",
    "            mat[i][i-1] = -c * (1 - 1 / (2 * (i + o)))\n",
    "            mat[i][i] = 2 * c + removal\n",
    "            mat[i][i+1] = -c * (1 + 1 / (2 * (i + o)))\n",
    "            \n",
    "            # Dory\n",
    "            \"\"\"\n",
    "            mat[i][i-1] = \n",
    "            \"\"\"\n",
    "        \n",
    "        mat[0][0] = 2 * c + removal\n",
    "        mat[0][1] = -2 * c\n",
    "        \n",
    "        mat[s-1][s-2] = -c * (1 - 1 / (2 * i))\n",
    "        mat[s-1][s-1] = 2 * c + removal\n",
    "        \n",
    "        return mat\n",
    "    \n",
    "    def source(self, k, flux, g):\n",
    "        # assert flux.shape[1] == self.matrix().shape[0]\n",
    "        ret = np.zeros_like(flux[g])\n",
    "\n",
    "        x = self.chi[g]\n",
    "        \n",
    "        #print('Sources for group {0}'.format(g))\n",
    "        for i in range(self.groups):\n",
    "            scat = np.multiply(self.inscatter(g)[i], flux[i])\n",
    "            fiss = np.multiply(self.sigma_nu()[i], flux[i]) * x / k\n",
    "            #print('fiss from group {0}'.format(i))\n",
    "            #print(fiss)\n",
    "            #print('scat from group {0}'.format(i))\n",
    "            #print(scat)\n",
    "            ret += scat + fiss\n",
    "        \n",
    "        return ret\n",
    "    \n",
    "    def iterate_flux(self, k, flux, g):\n",
    "        flux_old = flux[g,:]\n",
    "        k_old = k\n",
    "        flux_new = np.linalg.solve(self.matrix(g), self.source(k, flux, g))\n",
    "        \n",
    "        mag_new = np.linalg.norm(flux_new)\n",
    "        mag_old = np.linalg.norm(flux_old)\n",
    "        \n",
    "        flux_error = np.amax(np.divide(abs(flux_new - flux_old), flux_new))\n",
    "        \n",
    "        k_new = k_old * mag_new / mag_old\n",
    "        \n",
    "        k_error = abs((k_new - k_old) / k_new)\n",
    "        \n",
    "        return flux_new, k_new, flux_error, k_error"
   ]
  },
  {
   "cell_type": "code",
   "execution_count": 2455,
   "metadata": {
    "collapsed": false
   },
   "outputs": [
    {
     "data": {
      "text/plain": [
       "8.0cm of fuel material"
      ]
     },
     "execution_count": 2455,
     "metadata": {},
     "output_type": "execute_result"
    }
   ],
   "source": [
    "fuel = Material()\n",
    "fuel.nodes = 20\n",
    "fuel.width = 8.\n",
    "fuel.absorption = np.array([0.01207, 0.01210])\n",
    "fuel.fission = np.array([0.003320, 0.07537])\n",
    "fuel.neutrons_per_fission = np.array([2.553012048, 2.456415019])\n",
    "fuel.diffusion = np.array([1.2627, 0.3543])\n",
    "fuel.groups = 2\n",
    "fuel.scattering = np.array([[0., 0.01412], [0., 0.]])\n",
    "fuel.chi = np.array([1., 0.])\n",
    "fuel"
   ]
  },
  {
   "cell_type": "code",
   "execution_count": 2456,
   "metadata": {
    "collapsed": false
   },
   "outputs": [
    {
     "data": {
      "text/plain": [
       "5.0cm of reflector material"
      ]
     },
     "execution_count": 2456,
     "metadata": {},
     "output_type": "execute_result"
    }
   ],
   "source": [
    "reflector = Material()\n",
    "reflector.nodes = 20\n",
    "reflector.width = 5.\n",
    "reflector.absorption = np.array([0.0004, 0.0197])\n",
    "reflector.fission = np.array([0., 0.,])\n",
    "reflector.neutrons_per_fission = np.array([0., 0.])\n",
    "reflector.diffusion = np.array([1.13, 0.16])\n",
    "reflector.groups = 2\n",
    "reflector.scattering = np.array([[0., 0.0494], [0., 0.]])\n",
    "reflector.chi = np.array([0., 0.])\n",
    "reflector"
   ]
  },
  {
   "cell_type": "code",
   "execution_count": 2457,
   "metadata": {
    "code_folding": [
     0
    ],
    "collapsed": false
   },
   "outputs": [],
   "source": [
    "class Reactor(object):\n",
    "    def __init__(self, fuel, reflector):\n",
    "        self.fuel = fuel\n",
    "        self.reflector = reflector\n",
    "        self.segments = fuel.segments + reflector.segments\n",
    "        \n",
    "    def matrix(self, g):\n",
    "        mat = np.zeros((self.segments, self.segments))\n",
    "        \n",
    "        fs = self.fuel.segments\n",
    "        \n",
    "        mat[:self.fuel.segments,:self.fuel.segments] = self.fuel.matrix(g)\n",
    "        mat[-self.reflector.segments:,-self.reflector.segments:] = self.reflector.matrix(g, offset=fs)\n",
    "        \n",
    "        # Boundary node - 1\n",
    "        \n",
    "        mat[fs-1][fs] = -self.fuel.diffusion[g] / self.fuel.delta_x() ** 2 * (1 + 1 / (2 * (fs-1)))\n",
    "        \n",
    "        # Boundary node\n",
    "        \"\"\"\n",
    "        mat[fs][fs-1] = self.reflector.delta_x() * self.fuel.diffusion[g]\n",
    "        mat[fs][fs] = -self.reflector.delta_x() * self.fuel.diffusion[g] - self.fuel.delta_x() * self.reflector.diffusion[g]\n",
    "        mat[fs][fs+1] = self.fuel.delta_x() * self.reflector.diffusion[g]\n",
    "        \"\"\"\n",
    "        mat[fs][fs-1] = 0.5\n",
    "        mat[fs][fs] = -1.\n",
    "        mat[fs][fs+1] = 0.5\n",
    "        \n",
    "        return mat\n",
    "    \n",
    "    def source(self, k, fluxes, g):\n",
    "        f = self.fuel\n",
    "        r = self.reflector\n",
    "        \n",
    "        f_src = f.source(k, fluxes[:,:f.segments], g)\n",
    "        r_src = r.source(k, fluxes[:,f.segments:], g)\n",
    "        \n",
    "        src = np.append(f_src, r_src)\n",
    "\n",
    "        src[f.segments] = 0.\n",
    "        \n",
    "        return src\n",
    "    \n",
    "    def iterate_flux(self, k, flux, g):\n",
    "        k_old = k\n",
    "        flux_old = flux[g,:]\n",
    "        \n",
    "        flux_new = np.linalg.solve(self.matrix(g), self.source(k, flux, g))\n",
    "        \n",
    "        mag_old = np.linalg.norm(flux_old)\n",
    "        mag_new = np.linalg.norm(flux_new)\n",
    "        \n",
    "        k_new = k_old * mag_new / mag_old\n",
    "        \n",
    "        k_error = abs((k_new - k_old) / k_old)\n",
    "        \n",
    "        flux_error = np.amax(abs(np.divide(abs(flux_new - flux_old), flux_old)))\n",
    "        \n",
    "        flux_new = flux_new / mag_new\n",
    "        \n",
    "        return flux_new, k_new, flux_error, k_error"
   ]
  },
  {
   "cell_type": "code",
   "execution_count": null,
   "metadata": {
    "collapsed": false
   },
   "outputs": [],
   "source": [
    "fuel.segments = 200\n",
    "reflector.segments = 200\n",
    "reflector.width = 2.\n",
    "fuel.width = 3.35885\n",
    "flux = 10 * np.ones((2, fuel.segments + reflector.segments))\n",
    "k = 1.\n",
    "\n",
    "rx = Reactor(fuel, reflector)"
   ]
  },
  {
   "cell_type": "code",
   "execution_count": null,
   "metadata": {
    "code_folding": [],
    "collapsed": false
   },
   "outputs": [],
   "source": [
    "def find_flux(rx, k=1., flux=np.ones((2, rx.segments)), num_groups=2):\n",
    "    flux_error = 100.\n",
    "    k_error = 100.\n",
    "    n_iter = 0\n",
    "    while (flux_error > MINERROR or k_error > MINERROR) and n_iter < MAXITER:\n",
    "        n_iter += 1\n",
    "        for g in range(num_groups):\n",
    "            if g == 0:\n",
    "                flux[g,:], k, flux_error, k_error = rx.iterate_flux(k, flux, g)\n",
    "            else:\n",
    "                flux[g,:] = rx.iterate_flux(k, flux, g)[0]\n",
    "    return flux, k, flux_error, k_error"
   ]
  },
  {
   "cell_type": "code",
   "execution_count": null,
   "metadata": {
    "collapsed": true
   },
   "outputs": [],
   "source": [
    "flux, k, flux_error, k_error = find_flux(rx)"
   ]
  },
  {
   "cell_type": "code",
   "execution_count": null,
   "metadata": {
    "collapsed": false
   },
   "outputs": [],
   "source": [
    "def graph_core(rx):\n",
    "    flux, k, flux_error, k_error = find_flux(rx)\n",
    "    \n",
    "    fuel = rx.fuel\n",
    "    reflector = rx.reflector\n",
    "    \n",
    "    r = np.linspace(0, fuel.width, fuel.nodes)[:-1]\n",
    "    r = np.append(r, np.linspace(fuel.width, fuel.width + reflector.width, reflector.segments))\n",
    "    plt.figure(1, figsize=(10,10))\n",
    "\n",
    "    refl = plt.subplot(222)\n",
    "    for g in range(2):\n",
    "        plt.plot(r[-reflector.segments:], flux[g,-reflector.segments:], label='Group {0}'.format(g))\n",
    "    plt.legend(loc='upper right')\n",
    "    plt.ylim(ymin=0.)\n",
    "    plt.title('Reflector')\n",
    "\n",
    "    reac = plt.subplot(212, sharey=refl)\n",
    "    for g in range(2):\n",
    "        plt.plot(r, flux[g,:], label='Group {0}'.format(g))\n",
    "    plt.axvline(fuel.width, linestyle='--', color='r')\n",
    "    plt.legend(loc='upper right')\n",
    "    plt.ylim(ymin=0.)\n",
    "    plt.title('Reactor')\n",
    "\n",
    "    cre = plt.subplot(221, sharey=refl)\n",
    "    for g in range(2):\n",
    "        plt.plot(r[:fuel.segments], flux[g,:fuel.segments], label='Group {0}'.format(g))\n",
    "    plt.legend(loc='upper right')\n",
    "    plt.ylim(ymin=0.)\n",
    "    plt.title('Core')\n",
    "\n",
    "    plt.show()\n",
    "\n",
    "    print(k)"
   ]
  },
  {
   "cell_type": "code",
   "execution_count": null,
   "metadata": {
    "collapsed": false
   },
   "outputs": [
    {
     "data": {
      "image/png": "[encoded data removed]",
      "text/plain": [
       "<matplotlib.figure.Figure at 0x10e7a08d0>"
      ]
     },
     "metadata": {},
     "output_type": "display_data"
    },
    {
     "name": "stdout",
     "output_type": "stream",
     "text": [
      "1.14245618338\n"
     ]
    }
   ],
   "source": [
    "graph_core(rx)"
   ]
  },
  {
   "cell_type": "code",
   "execution_count": null,
   "metadata": {
    "collapsed": false
   },
   "outputs": [],
   "source": [
    "core_widths = np.linspace(1., 10., 100)\n",
    "# print(core_widths)\n",
    "reflector_widths = np.linspace(1., 10., 100)\n",
    "k_array = np.zeros((len(core_widths), len(reflector_widths)))\n",
    "\n",
    "for i in range(len(core_widths)):\n",
    "    fuel.width = core_widths[i]\n",
    "    for j in range(len(reflector_widths)):\n",
    "        reflector.width = reflector_widths[j]\n",
    "        k = 1.\n",
    "        flux = 10 * np.ones((2, fuel.segments + reflector.segments))\n",
    "        flux_error = 1.\n",
    "        k_error = 1.\n",
    "        n_iter = 0\n",
    "        flux_errors = []\n",
    "        k_errors = []\n",
    "        while (flux_error > MINERROR or k_error > MINERROR) and n_iter < MAXITER:\n",
    "            n_iter += 1\n",
    "            if n_iter % 1e1 == 1:\n",
    "                #print(\"Iteration {0}: k_error={1}, flux_error={2}\".format(n_iter, k_error, flux_error))\n",
    "                pass\n",
    "            for g in range(2):\n",
    "                if g == 0:\n",
    "                    flux[g,:], k, flux_error, k_error = rx.iterate_flux(k, flux, g)\n",
    "                else:\n",
    "                    flux[g,:] = rx.iterate_flux(k, flux, g)[0]\n",
    "        flux = flux / np.linalg.norm(flux)\n",
    "        k_array[i][j] = k\n",
    "        j+=1\n",
    "    i+=1"
   ]
  },
  {
   "cell_type": "code",
   "execution_count": null,
   "metadata": {
    "collapsed": false
   },
   "outputs": [],
   "source": [
    "plt.imshow(k_array, clim=(0.999, 1.001))\n",
    "plt.colorbar()\n",
    "plt.xlabel('Core Width (10x)')\n",
    "plt.ylabel('Reflector Width (10x)')\n",
    "plt.show()"
   ]
  },
  {
   "cell_type": "code",
   "execution_count": null,
   "metadata": {
    "collapsed": false
   },
   "outputs": [],
   "source": [
    "fuel.width = 5\n",
    "reflector.width = 2.1\n",
    "rx2 = Reactor(fuel, reflector)\n",
    "\n",
    "flux, k, flux_error, k_error = find_flux(rx2)\n",
    "\n",
    "graph_core(rx2)"
   ]
  },
  {
   "cell_type": "code",
   "execution_count": null,
   "metadata": {
    "collapsed": true
   },
   "outputs": [],
   "source": []
  }
 ],
 "metadata": {
  "anaconda-cloud": {},
  "kernelspec": {
   "display_name": "Python [conda env:470]",
   "language": "python",
   "name": "conda-env-470-py"
  },
  "language_info": {
   "codemirror_mode": {
    "name": "ipython",
    "version": 3
   },
   "file_extension": ".py",
   "mimetype": "text/x-python",
   "name": "python",
   "nbconvert_exporter": "python",
   "pygments_lexer": "ipython3",
   "version": "3.5.2"
  },
  "latex_envs": {
   "bibliofile": "biblio.bib",
   "cite_by": "apalike",
   "current_citInitial": 1,
   "eqLabelWithNumbers": true,
   "eqNumInitial": 0
  }
 },
 "nbformat": 4,
 "nbformat_minor": 1
}
