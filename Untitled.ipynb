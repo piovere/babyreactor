{
 "cells": [
  {
   "cell_type": "code",
   "execution_count": 125,
   "metadata": {
    "collapsed": false
   },
   "outputs": [],
   "source": [
    "%matplotlib inline\n",
    "from __future__ import division\n",
    "import numpy as np\n",
    "import matplotlib.pyplot as plt\n",
    "np.set_printoptions(precision=1)"
   ]
  },
  {
   "cell_type": "code",
   "execution_count": 4,
   "metadata": {
    "collapsed": true
   },
   "outputs": [],
   "source": [
    "MINERROR = 1e-5\n",
    "MAXITER = 1e5"
   ]
  },
  {
   "cell_type": "code",
   "execution_count": 76,
   "metadata": {
    "collapsed": false
   },
   "outputs": [],
   "source": [
    "class Material(object):\n",
    "    def __init__(self):\n",
    "        self._absorption = None\n",
    "        self._diffusion = None\n",
    "        self._fission = None\n",
    "        self._width = None\n",
    "        self._segments = None\n",
    "        self._neutrons_per_fission = None\n",
    "        self._groups = None\n",
    "        self._scattering = None\n",
    "        self._removal = None\n",
    "        self._chi = None\n",
    "    \n",
    "    def __repr__(self):\n",
    "        if np.amax(self._fission) > 0:\n",
    "            use = 'fuel'\n",
    "        else:\n",
    "            use = 'reflector'\n",
    "        return u'{0}cm of {1} material'.format(self._width, use)\n",
    "    \n",
    "    @property\n",
    "    def groups(self):\n",
    "        return self._groups\n",
    "    \n",
    "    @groups.setter\n",
    "    def groups(self, g):\n",
    "        allowed_groups = [2,4]\n",
    "        if g not in allowed_groups:\n",
    "            errorstring = 'Groups must be from the allowed list ({0}), not {1}'\n",
    "            raise ValueError(errorstring.format(allowed_groups, g))\n",
    "        self._groups = g\n",
    "    \n",
    "    @property\n",
    "    def nodes(self):\n",
    "        return self._segments + 1\n",
    "    \n",
    "    @nodes.setter\n",
    "    def nodes(self, n):\n",
    "        self._segments = n - 1\n",
    "        \n",
    "    @property\n",
    "    def chi(self):\n",
    "        return self._chi\n",
    "    \n",
    "    @chi.setter\n",
    "    def chi(self, c):\n",
    "        self._chi = c\n",
    "    \n",
    "    @property\n",
    "    def absorption(self):\n",
    "        return self._absorption\n",
    "    \n",
    "    @absorption.setter\n",
    "    def absorption(self, a):\n",
    "        self._absorption = a\n",
    "    \n",
    "    @property\n",
    "    def scattering(self):\n",
    "        return self._scattering\n",
    "    \n",
    "    @scattering.setter\n",
    "    def scattering(self, s):\n",
    "        if s.shape[0] != s.shape[1]:\n",
    "            raise ValueError('Scattering matrix must be square')\n",
    "        if s.shape[0] != self._groups:\n",
    "            raise AssertionError('Must have scattering into and out of each group')\n",
    "        self._scattering = s\n",
    "    \n",
    "    def inscatter(self, group):\n",
    "        return self._scattering[:,group]\n",
    "    \n",
    "    @property\n",
    "    def removal(self, group=None):\n",
    "        if self._removal is not None:\n",
    "            if group is None:\n",
    "                return self._removal\n",
    "            else:\n",
    "                return self.removal[g]\n",
    "        else:\n",
    "            return self.absorption + np.sum(self._scattering[group,:])\n",
    "    \n",
    "    @removal.setter\n",
    "    def removal(self, r):\n",
    "        self._removal = r\n",
    "    \n",
    "    @property\n",
    "    def diffusion(self):\n",
    "        return self._diffusion\n",
    "    \n",
    "    @diffusion.setter\n",
    "    def diffusion(self, d):\n",
    "        self._diffusion = d\n",
    "    \n",
    "    @property\n",
    "    def fission(self):\n",
    "        return self._fission\n",
    "    \n",
    "    @fission.setter\n",
    "    def fission(self, f):\n",
    "        self._fission = f\n",
    "    \n",
    "    @property\n",
    "    def width(self):\n",
    "        return self._width\n",
    "    \n",
    "    @width.setter\n",
    "    def width(self, w):\n",
    "        self._width = w\n",
    "    \n",
    "    @property\n",
    "    def segments(self):\n",
    "        return self._segments\n",
    "    \n",
    "    @segments.setter\n",
    "    def segments(self, s):\n",
    "        self._segments = s\n",
    "    \n",
    "    @property\n",
    "    def neutrons_per_fission(self):\n",
    "        return self._neutrons_per_fission\n",
    "    \n",
    "    @neutrons_per_fission.setter\n",
    "    def neutrons_per_fission(self, nu):\n",
    "        self._neutrons_per_fission = nu\n",
    "        \n",
    "    def sigma_nu(self):\n",
    "        return np.multiply(self.fission, self.neutrons_per_fission)\n",
    "    \n",
    "    def delta_x(self):\n",
    "        return self.width / self.segments\n",
    "    \n",
    "    def matrix(self, g):\n",
    "        s = self.segments\n",
    "        mat = np.zeros((s, s))\n",
    "        \n",
    "        c = self.diffusion[g] / self.delta_x() ** 2\n",
    "        removal = self.absorption[g] + sum(self.scattering[g])\n",
    "        \n",
    "        for i in range(self.segments)[1:-1]:\n",
    "            mat[i][i-1] = -c * (1 - 1 / (2 * i))\n",
    "            mat[i][i] = 2 * c + removal\n",
    "            mat[i][i+1] = -c * (1 + 1 / (2 * i))\n",
    "        \n",
    "        mat[0][0] = 2 * c + removal\n",
    "        mat[0][1] = -2 * c\n",
    "        \n",
    "        mat[s-1][s-2] = -c * (1 - 1 / (2 * i))\n",
    "        mat[s-1][s-1] = 2 * c + removal\n",
    "        \n",
    "        return mat\n",
    "    \n",
    "    def source(self, k, flux, g):\n",
    "        # assert flux.shape[1] == self.matrix().shape[0]\n",
    "        ret = np.zeros_like(flux[g])\n",
    "\n",
    "        x = self.chi[g]\n",
    "        \n",
    "        for i in range(self.groups):\n",
    "            scat = np.multiply(self.inscatter(g)[i], flux[i])\n",
    "            fiss = np.multiply(self.sigma_nu()[i], flux[i]) * x / k\n",
    "            ret += scat + fiss\n",
    "        \n",
    "        return ret\n",
    "    \n",
    "    def iterate_flux(self, k, flux, g):\n",
    "        flux_old = flux[g,:]\n",
    "        k_old = k\n",
    "        flux_new = np.linalg.solve(self.matrix(g), self.source(k, flux, g))\n",
    "        \n",
    "        mag_new = np.linalg.norm(flux_new)\n",
    "        mag_old = np.linalg.norm(flux_old)\n",
    "        \n",
    "        flux_error = np.amax(abs(flux_new - flux_old) / mag_new)\n",
    "        \n",
    "        k_new = k_old * mag_new / mag_old\n",
    "        \n",
    "        k_error = abs((k_new - k_old) / k_new)\n",
    "        \n",
    "        return flux_new, k_new, flux_error, k_error"
   ]
  },
  {
   "cell_type": "code",
   "execution_count": 95,
   "metadata": {
    "collapsed": false
   },
   "outputs": [
    {
     "data": {
      "text/plain": [
       "150.0cm of fuel material"
      ]
     },
     "execution_count": 95,
     "metadata": {},
     "output_type": "execute_result"
    }
   ],
   "source": [
    "fuel = Material()\n",
    "fuel.nodes = 4\n",
    "fuel.width = 150.\n",
    "fuel.absorption = np.array([0.01207, 0.01210])\n",
    "fuel.fission = np.array([0.003320, 0.07537])\n",
    "fuel.neutrons_per_fission = np.array([2.553012048, 2.456415019])\n",
    "fuel.diffusion = np.array([1.2627, 0.3543])\n",
    "fuel.groups = 2\n",
    "fuel.scattering = np.array([[0., 0.01412], [0., 0.]])\n",
    "fuel.chi = np.array([1., 0.])\n",
    "fuel"
   ]
  },
  {
   "cell_type": "code",
   "execution_count": 96,
   "metadata": {
    "collapsed": false
   },
   "outputs": [
    {
     "data": {
      "text/plain": [
       "150.0cm of reflector material"
      ]
     },
     "execution_count": 96,
     "metadata": {},
     "output_type": "execute_result"
    }
   ],
   "source": [
    "reflector = Material()\n",
    "reflector.nodes = 4\n",
    "reflector.width = 150.\n",
    "reflector.absorption = np.array([0.0004, 0.0197])\n",
    "reflector.fission = np.array([0., 0.,])\n",
    "reflector.neutrons_per_fission = np.array([0., 0.])\n",
    "reflector.diffusion = np.array([1.13, 0.16])\n",
    "reflector.groups = 2\n",
    "reflector.scattering = np.array([[0., 0.0494], [0., 0.]])\n",
    "reflector.chi = np.array([0., 0.])\n",
    "reflector"
   ]
  },
  {
   "cell_type": "code",
   "execution_count": 159,
   "metadata": {
    "collapsed": false
   },
   "outputs": [],
   "source": [
    "class Reactor(object):\n",
    "    def __init__(self, fuel, reflector):\n",
    "        self.fuel = fuel\n",
    "        self.reflector = reflector\n",
    "        self.segments = fuel.segments + reflector.segments\n",
    "        \n",
    "    def matrix(self, g):\n",
    "        mat = np.zeros((self.segments, self.segments))\n",
    "        \n",
    "        mat[:self.fuel.segments,:self.fuel.segments] = fuel.matrix(g)\n",
    "        mat[-self.reflector.segments:,-self.reflector.segments:] = reflector.matrix(g)\n",
    "        \n",
    "        # Boundary node - 1\n",
    "        fs = self.fuel.segments\n",
    "        mat[fs-1][fs] = -self.fuel.diffusion[g] / self.fuel.delta_x() ** 2 * (1 + 1 / (2 * fs))\n",
    "        \n",
    "        # Boundary node\n",
    "        \"\"\"\n",
    "        mat[fs][fs-1] = self.reflector.delta_x() * self.fuel.diffusion[g]\n",
    "        mat[fs][fs] = -self.reflector.delta_x() * self.fuel.diffusion[g] + self.fuel.delta_x() * self.reflector.diffusion[g]\n",
    "        mat[fs][fs+1] = self.fuel.delta_x() * self.reflector.diffusion[g]\n",
    "        \"\"\"\n",
    "        # Boundary node a la Dory\n",
    "        f = self.fuel\n",
    "        r = self.reflector\n",
    "        mat[fs][fs-1] = f.diffusion[g] / (fs * f.delta_x() ** 2)\n",
    "        tmp = -f.diffusion[g] / f.delta_x() - f.diffusion[g] / (fs * f.delta_x()) -\\\n",
    "                            f.diffusion[g] / (fs * f.delta_x() ** 2) + r.diffusion[g] / r.delta_x() -\\\n",
    "                            r.diffusion[g] / (fs * r.delta_x()) - r.diffusion[g] / (fs * r.delta_x() ** 2) +\\\n",
    "                            0.5 * r.removal[g] / r.delta_x() + 0.5 * f.removal[g] / f.delta_x()\n",
    "        \n",
    "        mat[fs][fs] = tmp\n",
    "        mat[fs][fs+1] = -r.diffusion[g] / (fs * r.delta_x() ** 2)\n",
    "        \n",
    "        return mat\n",
    "    \n",
    "    def source(self, k, fluxes, g):\n",
    "        \"\"\"\n",
    "        s = np.ones_like(flux)\n",
    "        fs = self.fuel.segments\n",
    "        s[:fs] *= self.fuel.fission * self.fuel.neutrons_per_fission / k\n",
    "        s[fs+1:] *= self.reflector.fission * self.reflector.neutrons_per_fission / k\n",
    "        s[fs] = 0\n",
    "        \n",
    "        return np.multiply(s, flux)\n",
    "        \"\"\"\n",
    "        f = self.fuel\n",
    "        r = self.reflector\n",
    "        \n",
    "        f_src = f.source(k, fluxes[:,:f.segments], g)\n",
    "        r_src = r.source(k, fluxes[:,f.segments:], g)\n",
    "        \n",
    "        src = np.append(f_src, r_src)\n",
    "        \n",
    "        # src[f.segments] = 0.\n",
    "        \n",
    "        return src\n",
    "    \n",
    "    def iterate_flux(self, k, flux, g):\n",
    "        k_old = k\n",
    "        flux_old = flux[g]\n",
    "        \n",
    "        flux_new = np.linalg.solve(self.matrix(g), self.source(k, flux, g))\n",
    "        \n",
    "        mag_old = np.linalg.norm(flux_old)\n",
    "        mag_new = np.linalg.norm(flux_new)\n",
    "        \n",
    "        k_new = k * mag_new / mag_old\n",
    "        \n",
    "        k_error = abs((k_new - k_old) / k_new)\n",
    "        \n",
    "        flux_error = np.amax(abs(flux_new - flux_old) / mag_new)\n",
    "        \n",
    "        return flux_new, k_new, flux_error, k_error"
   ]
  },
  {
   "cell_type": "code",
   "execution_count": 164,
   "metadata": {
    "collapsed": false
   },
   "outputs": [
    {
     "name": "stdout",
     "output_type": "stream",
     "text": [
      "[ 0.  0.  0.  0.  0.  0.  0.  0.  0.  0.  0.  0.  0.  0.  0.  0.  0.  0.\n",
      "  0.  0.]\n"
     ]
    }
   ],
   "source": [
    "fuel.segments = 10\n",
    "reflector.segments = 10\n",
    "flux = np.ones((2, 20))\n",
    "k = 1.\n",
    "\n",
    "print reflector.source(1., flux, 1)\n",
    "\n",
    "rx = Reactor(fuel, reflector)"
   ]
  },
  {
   "cell_type": "code",
   "execution_count": 165,
   "metadata": {
    "collapsed": false
   },
   "outputs": [],
   "source": [
    "for j in range(1000):\n",
    "    for g in range(2):\n",
    "        flux[g,:], k, flux_error, k_error = rx.iterate_flux(k, flux, g)"
   ]
  },
  {
   "cell_type": "code",
   "execution_count": 166,
   "metadata": {
    "collapsed": false
   },
   "outputs": [
    {
     "data": {
      "image/png": "[encoded data removed]",
      "text/plain": [
       "<matplotlib.figure.Figure at 0x7ff90fe48b90>"
      ]
     },
     "metadata": {},
     "output_type": "display_data"
    }
   ],
   "source": [
    "for g in range(2):\n",
    "    plt.plot(flux[g,:], label='Group {0}'.format(g))\n",
    "plt.legend(loc='upper right')\n",
    "plt.show()"
   ]
  },
  {
   "cell_type": "code",
   "execution_count": 168,
   "metadata": {
    "collapsed": false
   },
   "outputs": [
    {
     "name": "stdout",
     "output_type": "stream",
     "text": [
      "[  1.4e-01   1.3e-01   1.3e-01   1.2e-01   1.1e-01   9.0e-02   7.3e-02\n",
      "   5.5e-02   3.6e-02   1.7e-02   4.1e-04   1.8e-05   1.1e-06   7.8e-08\n",
      "   5.8e-09   4.4e-10   3.4e-11   2.7e-12   2.1e-13   1.7e-14]\n"
     ]
    }
   ],
   "source": [
    "print reflector.source(1., flux, 1)"
   ]
  },
  {
   "cell_type": "code",
   "execution_count": 380,
   "metadata": {
    "collapsed": false
   },
   "outputs": [],
   "source": [
    "a = rx.matrix()\n",
    "flux = np.ones(a.shape[0])\n",
    "k = 1.\n",
    "k_error = 10.\n",
    "flux_error = 10.\n",
    "n_iter = 0"
   ]
  },
  {
   "cell_type": "code",
   "execution_count": 381,
   "metadata": {
    "collapsed": false
   },
   "outputs": [],
   "source": [
    "while k_error > MINERROR or flux_error > MINERROR and n_iter < MAXITER:\n",
    "    n_iter +=1\n",
    "    flux, k, flux_error, k_error = rx.iterate_flux(k, flux)"
   ]
  },
  {
   "cell_type": "code",
   "execution_count": 382,
   "metadata": {
    "collapsed": false
   },
   "outputs": [
    {
     "data": {
      "image/png": "[encoded data removed]",
      "text/plain": [
       "<matplotlib.figure.Figure at 0x7f13d847fa50>"
      ]
     },
     "metadata": {},
     "output_type": "display_data"
    }
   ],
   "source": [
    "r = np.linspace(0, fuel.width, fuel.segments)\n",
    "r = np.append(r, np.linspace(fuel.width, fuel.width + reflector.width, reflector.segments))\n",
    "plt.plot(r, flux)\n",
    "plt.yscale('log')\n",
    "plt.show()"
   ]
  },
  {
   "cell_type": "code",
   "execution_count": 369,
   "metadata": {
    "collapsed": false
   },
   "outputs": [
    {
     "data": {
      "text/plain": [
       "1.0081481573858402"
      ]
     },
     "execution_count": 369,
     "metadata": {},
     "output_type": "execute_result"
    }
   ],
   "source": [
    "k"
   ]
  },
  {
   "cell_type": "code",
   "execution_count": 370,
   "metadata": {
    "collapsed": false
   },
   "outputs": [
    {
     "data": {
      "text/plain": [
       "229"
      ]
     },
     "execution_count": 370,
     "metadata": {},
     "output_type": "execute_result"
    }
   ],
   "source": [
    "n_iter"
   ]
  },
  {
   "cell_type": "code",
   "execution_count": 371,
   "metadata": {
    "collapsed": false
   },
   "outputs": [
    {
     "data": {
      "text/plain": [
       "15"
      ]
     },
     "execution_count": 371,
     "metadata": {},
     "output_type": "execute_result"
    }
   ],
   "source": [
    "reflector.width"
   ]
  },
  {
   "cell_type": "code",
   "execution_count": 372,
   "metadata": {
    "collapsed": false
   },
   "outputs": [
    {
     "data": {
      "text/plain": [
       "150"
      ]
     },
     "execution_count": 372,
     "metadata": {},
     "output_type": "execute_result"
    }
   ],
   "source": [
    "fuel.width"
   ]
  },
  {
   "cell_type": "code",
   "execution_count": 373,
   "metadata": {
    "collapsed": false
   },
   "outputs": [
    {
     "data": {
      "text/plain": [
       "array([ 0.335,  0.227,  0.093,  0.   ,  0.   ,  0.   ,  0.   ])"
      ]
     },
     "execution_count": 373,
     "metadata": {},
     "output_type": "execute_result"
    }
   ],
   "source": [
    "rx.source(k,flux)"
   ]
  },
  {
   "cell_type": "code",
   "execution_count": null,
   "metadata": {
    "collapsed": true
   },
   "outputs": [],
   "source": []
  }
 ],
 "metadata": {
  "anaconda-cloud": {},
  "kernelspec": {
   "display_name": "Python [conda env:470]",
   "language": "python",
   "name": "conda-env-470-py"
  },
  "language_info": {
   "codemirror_mode": {
    "name": "ipython",
    "version": 2
   },
   "file_extension": ".py",
   "mimetype": "text/x-python",
   "name": "python",
   "nbconvert_exporter": "python",
   "pygments_lexer": "ipython2",
   "version": "2.7.12"
  }
 },
 "nbformat": 4,
 "nbformat_minor": 1
}
